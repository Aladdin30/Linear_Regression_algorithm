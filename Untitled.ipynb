{
 "cells": [
  {
   "cell_type": "code",
   "execution_count": 4,
   "id": "db78e367",
   "metadata": {},
   "outputs": [
    {
     "name": "stdout",
     "output_type": "stream",
     "text": [
      "5268     6380\n",
      "16909    9700\n",
      "16123    9862\n",
      "12181    7000\n",
      "12617    4763\n",
      "Name: sqft_lot15, dtype: int64\n",
      "score for training data :\n",
      " 0.5602780189795123\n",
      "score for testing data :\n",
      " 0.40959099198163296\n",
      "y_predict : \n",
      " [ 4326.54558481 37296.75237362  6324.55246647  3889.82052674\n",
      " 11882.02806737]\n",
      "mean absolute_error :\n",
      " 5635.869085937428\n",
      "mean_squared_error  :\n",
      " 379934724.69272923\n",
      "median_absolute_error: \n",
      " 2450.8654832472093\n"
     ]
    }
   ],
   "source": [
    "import pandas as pd\n",
    "from sklearn.preprocessing import LabelEncoder\n",
    "\n",
    "# Importing the dataset\n",
    "dataset = pd.read_csv('kc_house_data.csv')\n",
    "dataset.head(1)\n",
    "\n",
    "#LabelEncoder use to convert string to int\n",
    "\n",
    "le=LabelEncoder()\n",
    "dataset.date=le.fit_transform(dataset.date)\n",
    "dataset.head()\n",
    "\n",
    "X = dataset.iloc[:,:-1] \n",
    "y = dataset.iloc[:, -1]\n",
    "\n",
    "# Splitting the dataset into the Training set and Test set\n",
    "from sklearn.model_selection import train_test_split\n",
    "X_train, X_test, y_train, y_test = train_test_split(X, y, test_size = 0.2, random_state = 0)\n",
    "\n",
    "X_train\n",
    "X_test\n",
    "y_train\n",
    "y_test\n",
    "\n",
    "\n",
    "# Fitting Simple Linear Regression to the Training set\n",
    "from sklearn.linear_model import LinearRegression\n",
    "regressor = LinearRegression()\n",
    "regressor.fit(X_train, y_train)\n",
    "\n",
    "\n",
    "print('score for training data :\\n',regressor.score(X_train, y_train))\n",
    "print('score for testing data :\\n',regressor.score(X_test, y_test))\n",
    "\n",
    "# Predicting the Test set results\n",
    "y_pred = regressor.predict(X_test)\n",
    "print('y_predict : \\n',y_pred[:5]) \n",
    "\n",
    " \n",
    "#metrcis\n",
    "from sklearn.metrics import mean_absolute_error\n",
    "print('mean absolute_error :\\n',mean_absolute_error(y_test, y_pred))\n",
    "\n",
    "      \n",
    "from sklearn.metrics import mean_squared_error\n",
    "print('mean_squared_error  :\\n',mean_squared_error(y_test, y_pred))\n",
    "\n",
    "      \n",
    "from sklearn.metrics import median_absolute_error\n",
    "print('median_absolute_error: \\n',median_absolute_error(y_test, y_pred))\n",
    " "
   ]
  },
  {
   "cell_type": "code",
   "execution_count": null,
   "id": "827f5f8b",
   "metadata": {},
   "outputs": [],
   "source": []
  }
 ],
 "metadata": {
  "kernelspec": {
   "display_name": "Python 3 (ipykernel)",
   "language": "python",
   "name": "python3"
  },
  "language_info": {
   "codemirror_mode": {
    "name": "ipython",
    "version": 3
   },
   "file_extension": ".py",
   "mimetype": "text/x-python",
   "name": "python",
   "nbconvert_exporter": "python",
   "pygments_lexer": "ipython3",
   "version": "3.9.12"
  }
 },
 "nbformat": 4,
 "nbformat_minor": 5
}
